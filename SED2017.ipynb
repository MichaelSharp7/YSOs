{
 "cells": [
  {
   "cell_type": "code",
   "execution_count": 1,
   "metadata": {},
   "outputs": [],
   "source": [
    "# Call the relevant python packages\n",
    "import numpy as np\n",
    "import glob, os\n",
    "from os import listdir\n",
    "from os.path import isfile, join\n",
    "import matplotlib.pyplot as plt\n",
    "import scipy.constants as const\n",
    "\n",
    "from astropy import units as u\n",
    "from astropy.io import ascii\n",
    "from astropy.table import Table\n",
    "\n",
    "from sedfitter import filter_output, write_parameters, write_parameter_ranges\n",
    "from sedfitter.extinction import Extinction\n",
    "from sedfitter import fit, plot\n",
    "\n",
    "import seaborn as sns\n",
    "sns.set_context(\"paper\")\n",
    "\n",
    "%matplotlib inline"
   ]
  },
  {
   "cell_type": "code",
   "execution_count": 2,
   "metadata": {},
   "outputs": [
    {
     "name": "stdout",
     "output_type": "stream",
     "text": [
      "The number of YSO candidates in the table is 105\n"
     ]
    }
   ],
   "source": [
    "# Read in the SED formatted file containing the high probability YSOs\n",
    "SED_input_file = 'High_Prob_YSO_SED.txt'\n",
    "data = ascii.read(SED_input_file)\n",
    "\n",
    "# Print the number of potential YSOs found in the table\n",
    "YSO_num=len(data)\n",
    "print(\"The number of YSO candidates in the table is\",YSO_num)"
   ]
  },
  {
   "cell_type": "code",
   "execution_count": 3,
   "metadata": {
    "scrolled": false
   },
   "outputs": [
    {
     "data": {
      "text/plain": [
       "\"\\n# Run the fitting for each model set (18 total)\\n# Creates output files which can be saved and plotted later\\nfor i in range(len(models_list)):\\n    model_dir = 'models_YSO_2017/'+models_list[i]\\n    SED_output_file = '2017_outputs/'+models_list[i]+'.fitinfo'\\n    fit(SED_input_file, filters, apertures, model_dir,\\n        SED_output_file,\\n        extinction_law=extinction,\\n        distance_range=[450., 530.] * u.kpc,     # Distance range here is for NGC 6822\\n        av_range=[0., 40.])                      # A_V range here is for NGC 6822\\n\""
      ]
     },
     "execution_count": 3,
     "metadata": {},
     "output_type": "execute_result"
    }
   ],
   "source": [
    "# Read in extinction law\n",
    "extinction = Extinction.from_file('Input_SED/kmh94.par', columns=[0, 3], wav_unit=u.micron, chi_unit=u.cm**2 / u.g)\n",
    "\n",
    "# Define filters and apertures\n",
    "filters = ['2J', '2H', '2K', 'I1', 'I2', 'I3', 'I4', 'M1']\n",
    "apertures = [2., 2., 2., 1.2, 1.2, 1.2, 1.2, 6.] * u.arcsec\n",
    "\n",
    "models_list = ['s---s-i','s---smi','s-p-hmi','s-p-smi','s-pbhmi','s-pbsmi','s-u-hmi','s-u-smi','s-ubhmi',\n",
    "               's-ubsmi','sp--h-i','sp--hmi','sp--s-i','sp--smi','spu-hmi','spu-smi']\n",
    "\n",
    "'''\n",
    "# Run the fitting for each model set (18 total)\n",
    "# Creates output files which can be saved and plotted later\n",
    "for i in range(len(models_list)):\n",
    "    model_dir = 'models_YSO_2017/'+models_list[i]\n",
    "    SED_output_file = '2017_outputs/'+models_list[i]+'.fitinfo'\n",
    "    fit(SED_input_file, filters, apertures, model_dir,\n",
    "        SED_output_file,\n",
    "        extinction_law=extinction,\n",
    "        distance_range=[450., 530.] * u.kpc,     # Distance range here is for NGC 6822\n",
    "        av_range=[0., 40.])                      # A_V range here is for NGC 6822\n",
    "'''"
   ]
  },
  {
   "cell_type": "code",
   "execution_count": 12,
   "metadata": {},
   "outputs": [],
   "source": [
    "for i in range(len(models_list)):\n",
    "    fitinfo_input_file = '2017_outputs/'+models_list[i]+'.fitinfo'\n",
    "    #ranges_output_file = '2017_outputs/'+models_list[i]+'_ranges.txt'\n",
    "    #write_parameter_ranges(fitinfo_input_file,ranges_output_file,select_format=('F',1.))\n",
    "    params_output_file = '2017_outputs/'+models_list[i]+'_params.txt'\n",
    "    write_parameters(fitinfo_input_file,params_output_file,select_format=('F',1.))"
   ]
  },
  {
   "cell_type": "code",
   "execution_count": 4,
   "metadata": {
    "scrolled": true
   },
   "outputs": [
    {
     "name": "stdout",
     "output_type": "stream",
     "text": [
      "\n",
      " s---s-i\n",
      "The number of fits in this file is 2223\n",
      "The number of sources in this file is 105\n",
      "\n",
      " s---smi\n",
      "The number of fits in this file is 8077\n",
      "The number of sources in this file is 105\n",
      "\n",
      " s-p-hmi\n",
      "The number of fits in this file is 434\n",
      "The number of sources in this file is 105\n",
      "\n",
      " s-p-smi\n",
      "The number of fits in this file is 1107\n",
      "The number of sources in this file is 105\n",
      "\n",
      " s-pbhmi\n",
      "The number of fits in this file is 2881\n",
      "The number of sources in this file is 105\n",
      "\n",
      " s-pbsmi\n",
      "The number of fits in this file is 2298\n",
      "The number of sources in this file is 105\n",
      "\n",
      " s-u-hmi\n",
      "The number of fits in this file is 4560\n",
      "The number of sources in this file is 105\n",
      "\n",
      " s-u-smi\n",
      "The number of fits in this file is 15305\n",
      "The number of sources in this file is 105\n",
      "\n",
      " s-ubhmi\n",
      "The number of fits in this file is 4391\n",
      "The number of sources in this file is 105\n",
      "\n",
      " s-ubsmi\n",
      "The number of fits in this file is 3027\n",
      "The number of sources in this file is 105\n",
      "\n",
      " sp--h-i\n",
      "The number of fits in this file is 1261\n",
      "The number of sources in this file is 105\n",
      "\n",
      " sp--hmi\n",
      "The number of fits in this file is 3380\n",
      "The number of sources in this file is 105\n",
      "\n",
      " sp--s-i\n",
      "The number of fits in this file is 303\n",
      "The number of sources in this file is 105\n",
      "\n",
      " sp--smi\n",
      "The number of fits in this file is 1092\n",
      "The number of sources in this file is 105\n",
      "\n",
      " spu-hmi\n",
      "The number of fits in this file is 3139\n",
      "The number of sources in this file is 105\n",
      "\n",
      " spu-smi\n",
      "The number of fits in this file is 652\n",
      "The number of sources in this file is 105\n"
     ]
    }
   ],
   "source": [
    "# Define solar radius, Stefan-Boltzmann constant and temperature of the Sun\n",
    "sigma = const.Stefan_Boltzmann\n",
    "R_sun = 6.957e+08 * u.m\n",
    "T_sun = 5778 * u.Kelvin\n",
    "        \n",
    "# Define a list of parameters to find MADs for\n",
    "param_list = ['chi2','av','star.radius','star.temperature']\n",
    "\n",
    "for m in range(len(models_list)):\n",
    "    params_import_file = '2017_outputs/'+models_list[m]+'_params.txt'\n",
    "    p_data = ascii.read(params_import_file, data_start=1)\n",
    "    ranges_import_file = '2017_outputs/'+models_list[m]+'_ranges.txt'\n",
    "    pr_data = ascii.read(ranges_import_file, data_start=1)\n",
    "\n",
    "    # Create columns for luminosity in both files and calculate in units of L☉\n",
    "    p_data['luminosity']=0\n",
    "    p_data['luminosity']=(((p_data['star.radius'])**2)*((p_data['star.temperature'])**4)/T_sun**4)\n",
    "    pr_data['ltot_best']=0\n",
    "    pr_data['ltot_best']=(((pr_data['star.radius_best'])**2)*((pr_data['star.temperature_best'])**4)/T_sun**4)\n",
    "\n",
    "    # Print the total number of fits in the parameter file\n",
    "    print(\"\\n\",models_list[m])\n",
    "    num_fits = len(p_data['source_name'])\n",
    "    print(\"The number of fits in this file is\",num_fits)\n",
    "    # Print the total number of sources in the ranges file\n",
    "    num_sources = len(pr_data['source_name'])\n",
    "    print(\"The number of sources in this file is\",num_sources)\n",
    "\n",
    "    # Build array of n_fits corresponding to each source.\n",
    "    # This writes a '1' to a new column to flag if that row starts a new source\n",
    "    source_num = 0\n",
    "    p_data['new_source?']=0\n",
    "    arr_new_source = np.array([])\n",
    "    for i in range(num_fits):\n",
    "        new_source = p_data['source_name'][i] - source_num\n",
    "        if new_source == 1:\n",
    "            arr_new_source = np.append(arr_new_source,np.array([i]))\n",
    "            p_data['new_source?'][i]=1\n",
    "        source_num = p_data['source_name'][i]\n",
    "    \n",
    "    # Find MAD for each parameter above\n",
    "    # Set up empty columns for each MAD in ranges file\n",
    "    p_data['L_MAD']=0\n",
    "    pr_data['L_MAD']=0\n",
    "    for i in range(len(param_list)):\n",
    "        param_mad_name = param_list[i]+'_MAD'\n",
    "        p_data[param_mad_name]=0\n",
    "        pr_data[param_mad_name]=0\n",
    "    \n",
    "    # For each source in the table find the MADs\n",
    "    idx_new_source = np.where(p_data['new_source?']==1)\n",
    "\n",
    "    # Cycle through each fit for each source to get luminosity MAD\n",
    "    counter = 0\n",
    "    for i in range(num_sources):\n",
    "        counter = counter + 1\n",
    "        L_best = pr_data['ltot_best'][i]\n",
    "        n_fits_for_source = pr_data['n_fits'][i]\n",
    "        arr_MAD = np.array([])\n",
    "        if n_fits_for_source > 1:\n",
    "            for j in range(n_fits_for_source-1):\n",
    "                dev = np.array([abs(L_best - p_data['luminosity'][counter])])\n",
    "                arr_MAD = np.append(arr_MAD, dev)\n",
    "                counter = counter + 1\n",
    "            MAD_value = np.median(arr_MAD)\n",
    "        else:\n",
    "            MAD_value = 0\n",
    "        pr_data['L_MAD'][i] = MAD_value\n",
    "        \n",
    "    # Run this again for all other non-user-calculated parameters\n",
    "    # Cycle through all parameters listed above\n",
    "    for n in range(len(param_list)):\n",
    "        counter = 0\n",
    "        for i in range(num_sources):\n",
    "            counter = counter + 1\n",
    "            param_best_name = param_list[n]+'_best'\n",
    "            param_best = pr_data[param_best_name][i]\n",
    "            n_fits_for_source = pr_data['n_fits'][i]\n",
    "            arr_MAD = np.array([])\n",
    "            if n_fits_for_source > 1:\n",
    "                for j in range(n_fits_for_source-1):\n",
    "                    dev = np.array([abs(param_best - p_data[param_list[n]][counter])])\n",
    "                    arr_MAD = np.append(arr_MAD, dev)\n",
    "                    counter = counter + 1\n",
    "                MAD_value = np.median(arr_MAD)\n",
    "            else:\n",
    "                MAD_value = 0\n",
    "            param_mad_name = param_list[n]+'_MAD'\n",
    "            pr_data[param_mad_name][i] = MAD_value\n",
    "         \n",
    "    pr_out_name = '2017_outputs/'+models_list[m]+'_ranges_analysed.csv'\n",
    "    p_out_name = '2017_outputs/'+models_list[m]+'_params_analysed.csv'\n",
    "    #ascii.write(pr_data,pr_out_name,format='csv')\n",
    "    #ascii.write(p_data,p_out_name,format='csv')"
   ]
  },
  {
   "cell_type": "code",
   "execution_count": 13,
   "metadata": {
    "scrolled": true
   },
   "outputs": [
    {
     "name": "stdout",
     "output_type": "stream",
     "text": [
      "0 0\n"
     ]
    },
    {
     "name": "stderr",
     "output_type": "stream",
     "text": [
      "C:\\Users\\Mikey\\Anaconda3\\lib\\site-packages\\ipykernel_launcher.py:20: StringTruncateWarning: truncated right side string(s) longer than 1 character(s) during assignment\n"
     ]
    },
    {
     "name": "stdout",
     "output_type": "stream",
     "text": [
      "1 0\n"
     ]
    },
    {
     "name": "stderr",
     "output_type": "stream",
     "text": [
      "C:\\Users\\Mikey\\Anaconda3\\lib\\site-packages\\ipykernel_launcher.py:20: StringTruncateWarning: truncated right side string(s) longer than 1 character(s) during assignment\n"
     ]
    },
    {
     "name": "stdout",
     "output_type": "stream",
     "text": [
      "2 0\n"
     ]
    },
    {
     "name": "stderr",
     "output_type": "stream",
     "text": [
      "C:\\Users\\Mikey\\Anaconda3\\lib\\site-packages\\ipykernel_launcher.py:20: StringTruncateWarning: truncated right side string(s) longer than 1 character(s) during assignment\n"
     ]
    },
    {
     "name": "stdout",
     "output_type": "stream",
     "text": [
      "3 0\n"
     ]
    },
    {
     "name": "stderr",
     "output_type": "stream",
     "text": [
      "C:\\Users\\Mikey\\Anaconda3\\lib\\site-packages\\ipykernel_launcher.py:20: StringTruncateWarning: truncated right side string(s) longer than 1 character(s) during assignment\n"
     ]
    },
    {
     "name": "stdout",
     "output_type": "stream",
     "text": [
      "4 0\n"
     ]
    },
    {
     "name": "stderr",
     "output_type": "stream",
     "text": [
      "C:\\Users\\Mikey\\Anaconda3\\lib\\site-packages\\ipykernel_launcher.py:20: StringTruncateWarning: truncated right side string(s) longer than 1 character(s) during assignment\n"
     ]
    },
    {
     "name": "stdout",
     "output_type": "stream",
     "text": [
      "5 0\n"
     ]
    },
    {
     "name": "stderr",
     "output_type": "stream",
     "text": [
      "C:\\Users\\Mikey\\Anaconda3\\lib\\site-packages\\ipykernel_launcher.py:20: StringTruncateWarning: truncated right side string(s) longer than 1 character(s) during assignment\n"
     ]
    },
    {
     "name": "stdout",
     "output_type": "stream",
     "text": [
      "6 0\n"
     ]
    },
    {
     "name": "stderr",
     "output_type": "stream",
     "text": [
      "C:\\Users\\Mikey\\Anaconda3\\lib\\site-packages\\ipykernel_launcher.py:20: StringTruncateWarning: truncated right side string(s) longer than 1 character(s) during assignment\n"
     ]
    },
    {
     "name": "stdout",
     "output_type": "stream",
     "text": [
      "7 0\n"
     ]
    },
    {
     "name": "stderr",
     "output_type": "stream",
     "text": [
      "C:\\Users\\Mikey\\Anaconda3\\lib\\site-packages\\ipykernel_launcher.py:20: StringTruncateWarning: truncated right side string(s) longer than 1 character(s) during assignment\n"
     ]
    },
    {
     "name": "stdout",
     "output_type": "stream",
     "text": [
      "8 0\n"
     ]
    },
    {
     "name": "stderr",
     "output_type": "stream",
     "text": [
      "C:\\Users\\Mikey\\Anaconda3\\lib\\site-packages\\ipykernel_launcher.py:20: StringTruncateWarning: truncated right side string(s) longer than 1 character(s) during assignment\n"
     ]
    },
    {
     "name": "stdout",
     "output_type": "stream",
     "text": [
      "9 0\n"
     ]
    },
    {
     "name": "stderr",
     "output_type": "stream",
     "text": [
      "C:\\Users\\Mikey\\Anaconda3\\lib\\site-packages\\ipykernel_launcher.py:20: StringTruncateWarning: truncated right side string(s) longer than 1 character(s) during assignment\n"
     ]
    },
    {
     "name": "stdout",
     "output_type": "stream",
     "text": [
      "10 0\n"
     ]
    },
    {
     "name": "stderr",
     "output_type": "stream",
     "text": [
      "C:\\Users\\Mikey\\Anaconda3\\lib\\site-packages\\ipykernel_launcher.py:20: StringTruncateWarning: truncated right side string(s) longer than 1 character(s) during assignment\n"
     ]
    },
    {
     "name": "stdout",
     "output_type": "stream",
     "text": [
      "11 0\n"
     ]
    },
    {
     "name": "stderr",
     "output_type": "stream",
     "text": [
      "C:\\Users\\Mikey\\Anaconda3\\lib\\site-packages\\ipykernel_launcher.py:20: StringTruncateWarning: truncated right side string(s) longer than 1 character(s) during assignment\n"
     ]
    },
    {
     "name": "stdout",
     "output_type": "stream",
     "text": [
      "12 0\n"
     ]
    },
    {
     "name": "stderr",
     "output_type": "stream",
     "text": [
      "C:\\Users\\Mikey\\Anaconda3\\lib\\site-packages\\ipykernel_launcher.py:20: StringTruncateWarning: truncated right side string(s) longer than 1 character(s) during assignment\n"
     ]
    },
    {
     "name": "stdout",
     "output_type": "stream",
     "text": [
      "13 0\n"
     ]
    },
    {
     "name": "stderr",
     "output_type": "stream",
     "text": [
      "C:\\Users\\Mikey\\Anaconda3\\lib\\site-packages\\ipykernel_launcher.py:20: StringTruncateWarning: truncated right side string(s) longer than 1 character(s) during assignment\n"
     ]
    },
    {
     "name": "stdout",
     "output_type": "stream",
     "text": [
      "14 0\n"
     ]
    },
    {
     "name": "stderr",
     "output_type": "stream",
     "text": [
      "C:\\Users\\Mikey\\Anaconda3\\lib\\site-packages\\ipykernel_launcher.py:20: StringTruncateWarning: truncated right side string(s) longer than 1 character(s) during assignment\n"
     ]
    },
    {
     "name": "stdout",
     "output_type": "stream",
     "text": [
      "15 0\n"
     ]
    },
    {
     "name": "stderr",
     "output_type": "stream",
     "text": [
      "C:\\Users\\Mikey\\Anaconda3\\lib\\site-packages\\ipykernel_launcher.py:20: StringTruncateWarning: truncated right side string(s) longer than 1 character(s) during assignment\n"
     ]
    },
    {
     "name": "stdout",
     "output_type": "stream",
     "text": [
      "16 0\n"
     ]
    },
    {
     "name": "stderr",
     "output_type": "stream",
     "text": [
      "C:\\Users\\Mikey\\Anaconda3\\lib\\site-packages\\ipykernel_launcher.py:20: StringTruncateWarning: truncated right side string(s) longer than 1 character(s) during assignment\n"
     ]
    },
    {
     "name": "stdout",
     "output_type": "stream",
     "text": [
      "17 0\n"
     ]
    },
    {
     "name": "stderr",
     "output_type": "stream",
     "text": [
      "C:\\Users\\Mikey\\Anaconda3\\lib\\site-packages\\ipykernel_launcher.py:20: StringTruncateWarning: truncated right side string(s) longer than 1 character(s) during assignment\n"
     ]
    },
    {
     "name": "stdout",
     "output_type": "stream",
     "text": [
      "18 0\n"
     ]
    },
    {
     "name": "stderr",
     "output_type": "stream",
     "text": [
      "C:\\Users\\Mikey\\Anaconda3\\lib\\site-packages\\ipykernel_launcher.py:20: StringTruncateWarning: truncated right side string(s) longer than 1 character(s) during assignment\n"
     ]
    },
    {
     "name": "stdout",
     "output_type": "stream",
     "text": [
      "19 0\n"
     ]
    },
    {
     "name": "stderr",
     "output_type": "stream",
     "text": [
      "C:\\Users\\Mikey\\Anaconda3\\lib\\site-packages\\ipykernel_launcher.py:20: StringTruncateWarning: truncated right side string(s) longer than 1 character(s) during assignment\n"
     ]
    },
    {
     "name": "stdout",
     "output_type": "stream",
     "text": [
      "20 0\n"
     ]
    },
    {
     "name": "stderr",
     "output_type": "stream",
     "text": [
      "C:\\Users\\Mikey\\Anaconda3\\lib\\site-packages\\ipykernel_launcher.py:20: StringTruncateWarning: truncated right side string(s) longer than 1 character(s) during assignment\n"
     ]
    },
    {
     "name": "stdout",
     "output_type": "stream",
     "text": [
      "21 0\n"
     ]
    },
    {
     "name": "stderr",
     "output_type": "stream",
     "text": [
      "C:\\Users\\Mikey\\Anaconda3\\lib\\site-packages\\ipykernel_launcher.py:20: StringTruncateWarning: truncated right side string(s) longer than 1 character(s) during assignment\n"
     ]
    },
    {
     "name": "stdout",
     "output_type": "stream",
     "text": [
      "22 0\n"
     ]
    },
    {
     "name": "stderr",
     "output_type": "stream",
     "text": [
      "C:\\Users\\Mikey\\Anaconda3\\lib\\site-packages\\ipykernel_launcher.py:20: StringTruncateWarning: truncated right side string(s) longer than 1 character(s) during assignment\n"
     ]
    },
    {
     "name": "stdout",
     "output_type": "stream",
     "text": [
      "23 0\n"
     ]
    },
    {
     "name": "stderr",
     "output_type": "stream",
     "text": [
      "C:\\Users\\Mikey\\Anaconda3\\lib\\site-packages\\ipykernel_launcher.py:20: StringTruncateWarning: truncated right side string(s) longer than 1 character(s) during assignment\n"
     ]
    },
    {
     "name": "stdout",
     "output_type": "stream",
     "text": [
      "24 0\n"
     ]
    },
    {
     "name": "stderr",
     "output_type": "stream",
     "text": [
      "C:\\Users\\Mikey\\Anaconda3\\lib\\site-packages\\ipykernel_launcher.py:20: StringTruncateWarning: truncated right side string(s) longer than 1 character(s) during assignment\n"
     ]
    },
    {
     "name": "stdout",
     "output_type": "stream",
     "text": [
      "25 0\n"
     ]
    },
    {
     "name": "stderr",
     "output_type": "stream",
     "text": [
      "C:\\Users\\Mikey\\Anaconda3\\lib\\site-packages\\ipykernel_launcher.py:20: StringTruncateWarning: truncated right side string(s) longer than 1 character(s) during assignment\n"
     ]
    },
    {
     "name": "stdout",
     "output_type": "stream",
     "text": [
      "26 0\n"
     ]
    },
    {
     "name": "stderr",
     "output_type": "stream",
     "text": [
      "C:\\Users\\Mikey\\Anaconda3\\lib\\site-packages\\ipykernel_launcher.py:20: StringTruncateWarning: truncated right side string(s) longer than 1 character(s) during assignment\n"
     ]
    },
    {
     "name": "stdout",
     "output_type": "stream",
     "text": [
      "27 0\n"
     ]
    },
    {
     "name": "stderr",
     "output_type": "stream",
     "text": [
      "C:\\Users\\Mikey\\Anaconda3\\lib\\site-packages\\ipykernel_launcher.py:20: StringTruncateWarning: truncated right side string(s) longer than 1 character(s) during assignment\n"
     ]
    },
    {
     "name": "stdout",
     "output_type": "stream",
     "text": [
      "28 0\n"
     ]
    },
    {
     "name": "stderr",
     "output_type": "stream",
     "text": [
      "C:\\Users\\Mikey\\Anaconda3\\lib\\site-packages\\ipykernel_launcher.py:20: StringTruncateWarning: truncated right side string(s) longer than 1 character(s) during assignment\n"
     ]
    },
    {
     "name": "stdout",
     "output_type": "stream",
     "text": [
      "29 0\n"
     ]
    },
    {
     "name": "stderr",
     "output_type": "stream",
     "text": [
      "C:\\Users\\Mikey\\Anaconda3\\lib\\site-packages\\ipykernel_launcher.py:20: StringTruncateWarning: truncated right side string(s) longer than 1 character(s) during assignment\n"
     ]
    },
    {
     "name": "stdout",
     "output_type": "stream",
     "text": [
      "30 0\n"
     ]
    },
    {
     "name": "stderr",
     "output_type": "stream",
     "text": [
      "C:\\Users\\Mikey\\Anaconda3\\lib\\site-packages\\ipykernel_launcher.py:20: StringTruncateWarning: truncated right side string(s) longer than 1 character(s) during assignment\n"
     ]
    },
    {
     "name": "stdout",
     "output_type": "stream",
     "text": [
      "31 0\n"
     ]
    },
    {
     "ename": "KeyboardInterrupt",
     "evalue": "",
     "output_type": "error",
     "traceback": [
      "\u001b[1;31m---------------------------------------------------------------------------\u001b[0m",
      "\u001b[1;31mKeyboardInterrupt\u001b[0m                         Traceback (most recent call last)",
      "\u001b[1;32m<ipython-input-13-1c35f6979d03>\u001b[0m in \u001b[0;36m<module>\u001b[1;34m\u001b[0m\n\u001b[0;32m     11\u001b[0m     \u001b[1;32mfor\u001b[0m \u001b[0mj\u001b[0m \u001b[1;32min\u001b[0m \u001b[0mrange\u001b[0m\u001b[1;33m(\u001b[0m\u001b[0mlen\u001b[0m\u001b[1;33m(\u001b[0m\u001b[0mmodels_list\u001b[0m\u001b[1;33m)\u001b[0m\u001b[1;33m)\u001b[0m\u001b[1;33m:\u001b[0m\u001b[1;33m\u001b[0m\u001b[1;33m\u001b[0m\u001b[0m\n\u001b[0;32m     12\u001b[0m         \u001b[0mranges_import_file\u001b[0m \u001b[1;33m=\u001b[0m \u001b[1;34m'2017_outputs/'\u001b[0m\u001b[1;33m+\u001b[0m\u001b[0mmodels_list\u001b[0m\u001b[1;33m[\u001b[0m\u001b[0mm\u001b[0m\u001b[1;33m]\u001b[0m\u001b[1;33m+\u001b[0m\u001b[1;34m'_ranges.txt'\u001b[0m\u001b[1;33m\u001b[0m\u001b[1;33m\u001b[0m\u001b[0m\n\u001b[1;32m---> 13\u001b[1;33m         \u001b[0mpr_data\u001b[0m \u001b[1;33m=\u001b[0m \u001b[0mascii\u001b[0m\u001b[1;33m.\u001b[0m\u001b[0mread\u001b[0m\u001b[1;33m(\u001b[0m\u001b[0mranges_import_file\u001b[0m\u001b[1;33m,\u001b[0m \u001b[0mdata_start\u001b[0m\u001b[1;33m=\u001b[0m\u001b[1;36m1\u001b[0m\u001b[1;33m)\u001b[0m\u001b[1;33m\u001b[0m\u001b[1;33m\u001b[0m\u001b[0m\n\u001b[0m\u001b[0;32m     14\u001b[0m         \u001b[0mnumber_fits\u001b[0m \u001b[1;33m=\u001b[0m \u001b[0mpr_data\u001b[0m\u001b[1;33m[\u001b[0m\u001b[1;34m'n_fits'\u001b[0m\u001b[1;33m]\u001b[0m\u001b[1;33m[\u001b[0m\u001b[0mi\u001b[0m\u001b[1;33m]\u001b[0m\u001b[1;33m\u001b[0m\u001b[1;33m\u001b[0m\u001b[0m\n\u001b[0;32m     15\u001b[0m         \u001b[1;32mif\u001b[0m \u001b[0mnumber_fits\u001b[0m \u001b[1;33m>\u001b[0m \u001b[0mmax_fits\u001b[0m\u001b[1;33m:\u001b[0m\u001b[1;33m\u001b[0m\u001b[1;33m\u001b[0m\u001b[0m\n",
      "\u001b[1;32m~\\Anaconda3\\lib\\site-packages\\astropy\\io\\ascii\\ui.py\u001b[0m in \u001b[0;36mread\u001b[1;34m(table, guess, **kwargs)\u001b[0m\n\u001b[0;32m    371\u001b[0m         \u001b[1;31m# through below to the non-guess way so that any problems result in a\u001b[0m\u001b[1;33m\u001b[0m\u001b[1;33m\u001b[0m\u001b[1;33m\u001b[0m\u001b[0m\n\u001b[0;32m    372\u001b[0m         \u001b[1;31m# more useful traceback.\u001b[0m\u001b[1;33m\u001b[0m\u001b[1;33m\u001b[0m\u001b[1;33m\u001b[0m\u001b[0m\n\u001b[1;32m--> 373\u001b[1;33m         \u001b[0mdat\u001b[0m \u001b[1;33m=\u001b[0m \u001b[0m_guess\u001b[0m\u001b[1;33m(\u001b[0m\u001b[0mtable\u001b[0m\u001b[1;33m,\u001b[0m \u001b[0mnew_kwargs\u001b[0m\u001b[1;33m,\u001b[0m \u001b[0mformat\u001b[0m\u001b[1;33m,\u001b[0m \u001b[0mfast_reader\u001b[0m\u001b[1;33m)\u001b[0m\u001b[1;33m\u001b[0m\u001b[1;33m\u001b[0m\u001b[0m\n\u001b[0m\u001b[0;32m    374\u001b[0m         \u001b[1;32mif\u001b[0m \u001b[0mdat\u001b[0m \u001b[1;32mis\u001b[0m \u001b[1;32mNone\u001b[0m\u001b[1;33m:\u001b[0m\u001b[1;33m\u001b[0m\u001b[1;33m\u001b[0m\u001b[0m\n\u001b[0;32m    375\u001b[0m             \u001b[0mguess\u001b[0m \u001b[1;33m=\u001b[0m \u001b[1;32mFalse\u001b[0m\u001b[1;33m\u001b[0m\u001b[1;33m\u001b[0m\u001b[0m\n",
      "\u001b[1;32m~\\Anaconda3\\lib\\site-packages\\astropy\\io\\ascii\\ui.py\u001b[0m in \u001b[0;36m_guess\u001b[1;34m(table, read_kwargs, format, fast_reader)\u001b[0m\n\u001b[0;32m    528\u001b[0m \u001b[1;33m\u001b[0m\u001b[0m\n\u001b[0;32m    529\u001b[0m             \u001b[0mreader\u001b[0m\u001b[1;33m.\u001b[0m\u001b[0mguessing\u001b[0m \u001b[1;33m=\u001b[0m \u001b[1;32mTrue\u001b[0m\u001b[1;33m\u001b[0m\u001b[1;33m\u001b[0m\u001b[0m\n\u001b[1;32m--> 530\u001b[1;33m             \u001b[0mdat\u001b[0m \u001b[1;33m=\u001b[0m \u001b[0mreader\u001b[0m\u001b[1;33m.\u001b[0m\u001b[0mread\u001b[0m\u001b[1;33m(\u001b[0m\u001b[0mtable\u001b[0m\u001b[1;33m)\u001b[0m\u001b[1;33m\u001b[0m\u001b[1;33m\u001b[0m\u001b[0m\n\u001b[0m\u001b[0;32m    531\u001b[0m             _read_trace.append({'kwargs': copy.deepcopy(guess_kwargs),\n\u001b[0;32m    532\u001b[0m                                 \u001b[1;34m'Reader'\u001b[0m\u001b[1;33m:\u001b[0m \u001b[0mreader\u001b[0m\u001b[1;33m.\u001b[0m\u001b[0m__class__\u001b[0m\u001b[1;33m,\u001b[0m\u001b[1;33m\u001b[0m\u001b[1;33m\u001b[0m\u001b[0m\n",
      "\u001b[1;32m~\\Anaconda3\\lib\\site-packages\\astropy\\io\\ascii\\core.py\u001b[0m in \u001b[0;36mread\u001b[1;34m(self, table)\u001b[0m\n\u001b[0;32m   1149\u001b[0m             \u001b[1;31m# Strings only\u001b[0m\u001b[1;33m\u001b[0m\u001b[1;33m\u001b[0m\u001b[1;33m\u001b[0m\u001b[0m\n\u001b[0;32m   1150\u001b[0m             \u001b[1;32mif\u001b[0m \u001b[0mos\u001b[0m\u001b[1;33m.\u001b[0m\u001b[0mlinesep\u001b[0m \u001b[1;32mnot\u001b[0m \u001b[1;32min\u001b[0m \u001b[0mtable\u001b[0m \u001b[1;33m+\u001b[0m \u001b[1;34m''\u001b[0m\u001b[1;33m:\u001b[0m\u001b[1;33m\u001b[0m\u001b[1;33m\u001b[0m\u001b[0m\n\u001b[1;32m-> 1151\u001b[1;33m                 \u001b[0mself\u001b[0m\u001b[1;33m.\u001b[0m\u001b[0mdata\u001b[0m\u001b[1;33m.\u001b[0m\u001b[0mtable_name\u001b[0m \u001b[1;33m=\u001b[0m \u001b[0mos\u001b[0m\u001b[1;33m.\u001b[0m\u001b[0mpath\u001b[0m\u001b[1;33m.\u001b[0m\u001b[0mbasename\u001b[0m\u001b[1;33m(\u001b[0m\u001b[0mtable\u001b[0m\u001b[1;33m)\u001b[0m\u001b[1;33m\u001b[0m\u001b[1;33m\u001b[0m\u001b[0m\n\u001b[0m\u001b[0;32m   1152\u001b[0m \u001b[1;33m\u001b[0m\u001b[0m\n\u001b[0;32m   1153\u001b[0m         \u001b[1;31m# Get a list of the lines (rows) in the table\u001b[0m\u001b[1;33m\u001b[0m\u001b[1;33m\u001b[0m\u001b[1;33m\u001b[0m\u001b[0m\n",
      "\u001b[1;32m~\\Anaconda3\\lib\\ntpath.py\u001b[0m in \u001b[0;36mbasename\u001b[1;34m(p)\u001b[0m\n\u001b[0;32m    212\u001b[0m \u001b[1;32mdef\u001b[0m \u001b[0mbasename\u001b[0m\u001b[1;33m(\u001b[0m\u001b[0mp\u001b[0m\u001b[1;33m)\u001b[0m\u001b[1;33m:\u001b[0m\u001b[1;33m\u001b[0m\u001b[1;33m\u001b[0m\u001b[0m\n\u001b[0;32m    213\u001b[0m     \u001b[1;34m\"\"\"Returns the final component of a pathname\"\"\"\u001b[0m\u001b[1;33m\u001b[0m\u001b[1;33m\u001b[0m\u001b[0m\n\u001b[1;32m--> 214\u001b[1;33m     \u001b[1;32mreturn\u001b[0m \u001b[0msplit\u001b[0m\u001b[1;33m(\u001b[0m\u001b[0mp\u001b[0m\u001b[1;33m)\u001b[0m\u001b[1;33m[\u001b[0m\u001b[1;36m1\u001b[0m\u001b[1;33m]\u001b[0m\u001b[1;33m\u001b[0m\u001b[1;33m\u001b[0m\u001b[0m\n\u001b[0m\u001b[0;32m    215\u001b[0m \u001b[1;33m\u001b[0m\u001b[0m\n\u001b[0;32m    216\u001b[0m \u001b[1;33m\u001b[0m\u001b[0m\n",
      "\u001b[1;32m~\\Anaconda3\\lib\\ntpath.py\u001b[0m in \u001b[0;36msplit\u001b[1;34m(p)\u001b[0m\n\u001b[0;32m    187\u001b[0m     \u001b[0mi\u001b[0m \u001b[1;33m=\u001b[0m \u001b[0mlen\u001b[0m\u001b[1;33m(\u001b[0m\u001b[0mp\u001b[0m\u001b[1;33m)\u001b[0m\u001b[1;33m\u001b[0m\u001b[1;33m\u001b[0m\u001b[0m\n\u001b[0;32m    188\u001b[0m     \u001b[1;32mwhile\u001b[0m \u001b[0mi\u001b[0m \u001b[1;32mand\u001b[0m \u001b[0mp\u001b[0m\u001b[1;33m[\u001b[0m\u001b[0mi\u001b[0m\u001b[1;33m-\u001b[0m\u001b[1;36m1\u001b[0m\u001b[1;33m]\u001b[0m \u001b[1;32mnot\u001b[0m \u001b[1;32min\u001b[0m \u001b[0mseps\u001b[0m\u001b[1;33m:\u001b[0m\u001b[1;33m\u001b[0m\u001b[1;33m\u001b[0m\u001b[0m\n\u001b[1;32m--> 189\u001b[1;33m         \u001b[0mi\u001b[0m \u001b[1;33m-=\u001b[0m \u001b[1;36m1\u001b[0m\u001b[1;33m\u001b[0m\u001b[1;33m\u001b[0m\u001b[0m\n\u001b[0m\u001b[0;32m    190\u001b[0m     \u001b[0mhead\u001b[0m\u001b[1;33m,\u001b[0m \u001b[0mtail\u001b[0m \u001b[1;33m=\u001b[0m \u001b[0mp\u001b[0m\u001b[1;33m[\u001b[0m\u001b[1;33m:\u001b[0m\u001b[0mi\u001b[0m\u001b[1;33m]\u001b[0m\u001b[1;33m,\u001b[0m \u001b[0mp\u001b[0m\u001b[1;33m[\u001b[0m\u001b[0mi\u001b[0m\u001b[1;33m:\u001b[0m\u001b[1;33m]\u001b[0m  \u001b[1;31m# now tail has no slashes\u001b[0m\u001b[1;33m\u001b[0m\u001b[1;33m\u001b[0m\u001b[0m\n\u001b[0;32m    191\u001b[0m     \u001b[1;31m# remove trailing slashes from head, unless it's all slashes\u001b[0m\u001b[1;33m\u001b[0m\u001b[1;33m\u001b[0m\u001b[1;33m\u001b[0m\u001b[0m\n",
      "\u001b[1;31mKeyboardInterrupt\u001b[0m: "
     ]
    }
   ],
   "source": [
    "# Create new table for all final parameters\n",
    "table = Table()\n",
    "table['source.name'] = pr_data['source_name']\n",
    "table['best_model'] = ''\n",
    "table['best_n_fits'] = 0\n",
    "\n",
    "# For each source in the csv\n",
    "for i in range(num_sources):\n",
    "    max_fits = 0\n",
    "    # For each model set\n",
    "    for j in range(len(models_list)):\n",
    "        ranges_import_file = '2017_outputs/'+models_list[m]+'_ranges.txt'\n",
    "        pr_data = ascii.read(ranges_import_file, data_start=1)\n",
    "        number_fits = pr_data['n_fits'][i]\n",
    "        if number_fits > max_fits:\n",
    "            max_fits = number_fits\n",
    "            best_model = models_list[j]\n",
    "            print(i,j)\n",
    "    table['best_n_fits'][i] = max_fits\n",
    "    table['best_model'][i] = best_model\n",
    "\n",
    "table.show_in_notebook()"
   ]
  },
  {
   "cell_type": "code",
   "execution_count": null,
   "metadata": {},
   "outputs": [],
   "source": []
  }
 ],
 "metadata": {
  "kernelspec": {
   "display_name": "Python 3",
   "language": "python",
   "name": "python3"
  },
  "language_info": {
   "codemirror_mode": {
    "name": "ipython",
    "version": 3
   },
   "file_extension": ".py",
   "mimetype": "text/x-python",
   "name": "python",
   "nbconvert_exporter": "python",
   "pygments_lexer": "ipython3",
   "version": "3.7.3"
  }
 },
 "nbformat": 4,
 "nbformat_minor": 2
}
