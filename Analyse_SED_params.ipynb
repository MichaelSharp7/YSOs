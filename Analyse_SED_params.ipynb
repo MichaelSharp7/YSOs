{
 "cells": [
  {
   "cell_type": "code",
   "execution_count": 4,
   "metadata": {},
   "outputs": [],
   "source": [
    "# Call the relevant python packages\n",
    "import numpy as np\n",
    "import pandas as pd\n",
    "import glob, os                          # Operating system module and pathnames\n",
    "\n",
    "import matplotlib\n",
    "#matplotlib.use('nbagg')\n",
    "import matplotlib.pyplot as plt\n",
    "\n",
    "import scipy.constants as const\n",
    "\n",
    "from astropy import units as u\n",
    "from astropy.io import ascii, fits\n",
    "from astropy.table import join, hstack, Table, Column, vstack\n",
    "from astropy.coordinates import Angle, Latitude, Longitude, SkyCoord\n",
    "\n",
    "#import SED Fitter module\n",
    "from sedfitter import fit, plot, plot_params_1d, plot_params_2d\n",
    "from sedfitter import filter_output, write_parameters, write_parameter_ranges\n",
    "from sedfitter.extinction import Extinction\n",
    "\n",
    "# Set colour palette & plot layouts\n",
    "import seaborn as sns     #; sns.set()\n",
    "sns.set_context(\"paper\")   # \"paper\", \"notebook\", \"talk\", \"poster\"\n",
    "\n",
    "# Output plots in Notebook\n",
    "#%matplotlib notebook\n",
    "%matplotlib inline"
   ]
  },
  {
   "cell_type": "code",
   "execution_count": 7,
   "metadata": {},
   "outputs": [
    {
     "name": "stdout",
     "output_type": "stream",
     "text": [
      "5.670367e-08\n",
      "   luminosity  \n",
      "---------------\n",
      "  4902051567074\n",
      "  4902051567074\n",
      " 13679247396474\n",
      " 31431550901938\n",
      " 36708346360303\n",
      " 46492189391094\n",
      " 38070662268782\n",
      "487083287189749\n",
      "487083287189749\n",
      "487083287189749\n",
      "            ...\n",
      " 17338968625140\n",
      " 12155973281294\n",
      " 31431550901938\n",
      "  4902051567074\n",
      " 12155973281294\n",
      " 31431550901938\n",
      " 27522357572049\n",
      " 35386821540579\n",
      " 46492189391094\n",
      " 31431550901938\n",
      " 36708346360303\n",
      "Length = 891 rows\n"
     ]
    }
   ],
   "source": [
    "# Read in the catalogue\n",
    "file = '/scratch/s1625982/NGC6822/env/Output_SED/YSO_2006/params1to100.csv'\n",
    "data = ascii.read(file, data_start=1)\n",
    "\n",
    "# Create column for luminosity\n",
    "sigma = const.Stefan_Boltzmann\n",
    "print(sigma)\n",
    "data['luminosity']=0\n",
    "data['luminosity']=4*np.pi*((data['rstar'])**2)*sigma*((data['tstar'])**4)\n",
    "print(data['luminosity'])"
   ]
  },
  {
   "cell_type": "code",
   "execution_count": null,
   "metadata": {},
   "outputs": [],
   "source": []
  }
 ],
 "metadata": {
  "kernelspec": {
   "display_name": "Python 3",
   "language": "python",
   "name": "python3"
  },
  "language_info": {
   "codemirror_mode": {
    "name": "ipython",
    "version": 3
   },
   "file_extension": ".py",
   "mimetype": "text/x-python",
   "name": "python",
   "nbconvert_exporter": "python",
   "pygments_lexer": "ipython3",
   "version": "3.4.9"
  }
 },
 "nbformat": 4,
 "nbformat_minor": 2
}
