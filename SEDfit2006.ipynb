{
 "cells": [
  {
   "cell_type": "code",
   "execution_count": 1,
   "metadata": {},
   "outputs": [],
   "source": [
    "# Call the relevant python packages\n",
    "import numpy as np\n",
    "import pandas as pd\n",
    "import glob, os                          # Operating system module and pathnames\n",
    "\n",
    "import matplotlib\n",
    "#matplotlib.use('nbagg')\n",
    "import matplotlib.pyplot as plt\n",
    "\n",
    "from astropy import units as u\n",
    "from astropy.io import ascii, fits\n",
    "from astropy.table import join, hstack, Table, Column, vstack\n",
    "from astropy.coordinates import Angle, Latitude, Longitude, SkyCoord\n",
    "\n",
    "#import SED Fitter module\n",
    "from sedfitter import fit\n",
    "from sedfitter import plot\n",
    "from sedfitter.extinction import Extinction\n",
    "from sedfitter import plot_params_1d as param1d\n",
    "\n",
    "# Set colour palette & plot layouts\n",
    "import seaborn as sns     #; sns.set()\n",
    "sns.set_context(\"paper\")   # \"paper\", \"notebook\", \"talk\", \"poster\"\n",
    "\n",
    "# Output plots in Notebook\n",
    "#%matplotlib notebook\n",
    "%matplotlib inline"
   ]
  },
  {
   "cell_type": "markdown",
   "metadata": {},
   "source": [
    "# Only run the cell below if you need to create the SED format file"
   ]
  },
  {
   "cell_type": "code",
   "execution_count": 2,
   "metadata": {},
   "outputs": [
    {
     "ename": "AttributeError",
     "evalue": "'builtin_function_or_method' object has no attribute 'read'",
     "output_type": "error",
     "traceback": [
      "\u001b[0;31m---------------------------------------------------------------------------\u001b[0m",
      "\u001b[0;31mAttributeError\u001b[0m                            Traceback (most recent call last)",
      "\u001b[0;32m<ipython-input-2-c6a01df5f125>\u001b[0m in \u001b[0;36m<module>\u001b[0;34m()\u001b[0m\n\u001b[1;32m      1\u001b[0m \u001b[0;31m# Read in the catalogue\u001b[0m\u001b[0;34m\u001b[0m\u001b[0;34m\u001b[0m\u001b[0m\n\u001b[1;32m      2\u001b[0m \u001b[0mfile\u001b[0m \u001b[0;34m=\u001b[0m \u001b[0;34m'/scratch/s1625982/NGC6822/env/NGC6822_YSOs.csv'\u001b[0m\u001b[0;34m\u001b[0m\u001b[0m\n\u001b[0;32m----> 3\u001b[0;31m \u001b[0mdata\u001b[0m \u001b[0;34m=\u001b[0m \u001b[0mascii\u001b[0m\u001b[0;34m.\u001b[0m\u001b[0mread\u001b[0m\u001b[0;34m(\u001b[0m\u001b[0mfile\u001b[0m\u001b[0;34m,\u001b[0m \u001b[0mdata_start\u001b[0m\u001b[0;34m=\u001b[0m\u001b[0;36m1\u001b[0m\u001b[0;34m)\u001b[0m\u001b[0;34m\u001b[0m\u001b[0m\n\u001b[0m\u001b[1;32m      4\u001b[0m \u001b[0;34m\u001b[0m\u001b[0m\n\u001b[1;32m      5\u001b[0m \u001b[0mYSO_num\u001b[0m\u001b[0;34m=\u001b[0m\u001b[0mlen\u001b[0m\u001b[0;34m(\u001b[0m\u001b[0mdata\u001b[0m\u001b[0;34m)\u001b[0m\u001b[0;34m\u001b[0m\u001b[0m\n",
      "\u001b[0;31mAttributeError\u001b[0m: 'builtin_function_or_method' object has no attribute 'read'"
     ]
    }
   ],
   "source": [
    "# Read in the catalogue\n",
    "file = '/scratch/s1625982/NGC6822/env/NGC6822_YSOs.csv'\n",
    "data = ascii.read(file, data_start=1)\n",
    "\n",
    "# Print the number of YSOs found in the imported table\n",
    "YSO_num=len(data)\n",
    "print(\"The number of YSOs in the table is\",YSO_num)\n",
    "\n",
    "# Set up new columns for the flux\n",
    "data['J flux']=0.\n",
    "data['H flux']=0.\n",
    "data['K flux']=0.\n",
    "data['36 flux']=0.\n",
    "data['45 flux']=0.\n",
    "data['58 flux']=0.\n",
    "data['80 flux']=0.\n",
    "data['24 flux']=0.\n",
    "\n",
    "# Set up new columns for the flux errors\n",
    "data['J flux err']=0.2\n",
    "data['H flux err']=0.2\n",
    "data['K flux err']=0.2\n",
    "data['36 flux err']=0.2\n",
    "data['45 flux err']=0.2\n",
    "data['58 flux err']=0.2\n",
    "data['80 flux err']=0.2\n",
    "data['24 flux err']=0.2\n",
    "\n",
    "# Set up new columns for the integer assigned to each source (0-4).\n",
    "# NB: this program assumes sources are either valid or upper limits.\n",
    "# Hence, flags are either 1 (valid) or 3 (upper limit).\n",
    "# Assume all sources to be valid initially\n",
    "data['J int']=1\n",
    "data['H int']=1\n",
    "data['K int']=1\n",
    "data['36 int']=1\n",
    "data['45 int']=1\n",
    "data['58 int']=1\n",
    "data['80 int']=1\n",
    "data['24 int']=1\n",
    "\n",
    "# Assign the integer describing source reliability\n",
    "def write_column(idx,name):\n",
    "    for i in range(len(idx[0])):\n",
    "        #if source is upper limit write 0 flag\n",
    "        data[name][idx[0][i]]=0\n",
    "\n",
    "# Create indices to find which sources are upper limits\n",
    "idx_J=np.where((data['J data?']==0))\n",
    "write_column(idx_J,'J int')\n",
    "idx_H=np.where((data['H data?']==0))\n",
    "write_column(idx_H,'H int')\n",
    "idx_K=np.where((data['J data?']==0))\n",
    "write_column(idx_K,'K int')\n",
    "idx_36=np.where((data['36 data?']==0))\n",
    "write_column(idx_36,'36 int')\n",
    "idx_45=np.where((data['45 data?']==0))\n",
    "write_column(idx_45,'45 int')\n",
    "idx_58=np.where((data['58 data?']==0))\n",
    "write_column(idx_58,'58 int')\n",
    "idx_80=np.where((data['80 data?']==0))\n",
    "write_column(idx_80,'80 int')\n",
    "idx_24=np.where((data['24 data?']==0))\n",
    "write_column(idx_24,'24 int')\n",
    "\n",
    "# Hardcode zero points of filters for Vega system.\n",
    "# Fluxes and their errors are given in mJy\n",
    "F_0_J, F_0_err_J, m_0_J = 1601000, 0.0, -0.016\n",
    "F_0_H, F_0_err_H, m_0_H = 1034000, 0.0, 0.018\n",
    "F_0_K, F_0_err_K, m_0_K = 670300, 0.0, 0.008\n",
    "F_0_36, F_0_err_36, m_0_36 = 280900, 4100, 0.0\n",
    "F_0_45, F_0_err_45, m_0_45 = 179700, 2600, 0.0\n",
    "F_0_58, F_0_err_58,m_0_58 = 115000, 1700, 0.0\n",
    "F_0_80, F_0_err_80, m_0_80 = 1034000, 900, 0.0\n",
    "F_0_24, F_0_err_24, m_0_24 = 64900, 110, 0.0\n",
    "\n",
    "# Define lists for Fv, Fv_0, m_0 etc.\n",
    "flux_list = ['J flux','H flux','K flux','36 flux','45 flux','58 flux','80 flux','24 flux']\n",
    "flux_err_list = ['J flux err','H flux err','K flux err','36 flux err','45 flux err','58 flux err','80 flux err','24 flux err']\n",
    "F_0_list = [F_0_J,F_0_H,F_0_K,F_0_36,F_0_45,F_0_58,F_0_80,F_0_24]\n",
    "F_0_err_list = [F_0_err_J,F_0_err_H,F_0_err_K,F_0_err_36,F_0_err_45,F_0_err_58,F_0_err_80,F_0_err_24]\n",
    "m_0_list = [m_0_J,m_0_H,m_0_K,m_0_36,m_0_45,m_0_58,m_0_80,m_0_24]\n",
    "mag_list = ['Jmag','Hmag','Kmag','k36mag','k45mag','k58mag','k80mag','k24mag']\n",
    "mag_err_list = ['eJmag','eHmag','eKmag','e36mag','e45mag','e58mag','e80mag','e24mag']\n",
    "\n",
    "# Write flux and flux error calculations out for each source in each filter\n",
    "for i in range(len(flux_list)):\n",
    "        data[flux_list[i]]=F_0_list[i]*np.power(10,0.4*(m_0_list[i]-data[mag_list[i]]))\n",
    "        data[flux_err_list[i]]=data[flux_list[i]]*np.sqrt((np.square(0.921*data[mag_err_list[i]]))-np.square(F_0_err_list[i]/F_0_list[i]))\n",
    "\n",
    "# Write out table in the right format for SED fitter\n",
    "ascii.write(data[['New name','RA','Dec','J int','H int','K int','36 int','45 int','58 int','80 int','24 int',\n",
    "                  'J flux','J flux err','H flux','H flux err','K flux','K flux err','36 flux','36 flux err',\n",
    "                  '45 flux','45 flux err','58 flux','58 flux err','80 flux','80 flux err','24 flux','24 flux err']],\n",
    "            'NGC6822_YSOs_SED_format.txt', format='no_header', fast_writer=False)\n",
    "\n",
    "# NB: THE USER IS REQUIRED TO FIND AND REPLACE 'INF' IN THE FILE WITH WHATEVER THEY WISH TO USE\n",
    "#     TO DENOTE UPPER LIMITS (E.G. -9999)"
   ]
  },
  {
   "cell_type": "markdown",
   "metadata": {},
   "source": [
    "# Model Fitting and SED Plotting"
   ]
  },
  {
   "cell_type": "markdown",
   "metadata": {},
   "source": [
    "The modelling process doesn't seem to like to fit more than ~250 sources at a time without the kernel crashing and won't plot more than ~100 SEDs in one go without claiming that the files you are asking it to create (the actual graphs) don't exist.\n",
    "\n",
    "Ater a while the whole program won't run at all and you have to save, close and restart."
   ]
  },
  {
   "cell_type": "code",
   "execution_count": 3,
   "metadata": {
    "scrolled": false
   },
   "outputs": [
    {
     "name": "stdout",
     "output_type": "stream",
     "text": [
      "/scratch/s1625982/NGC6822/env/environ/501to584.txt\n",
      "/scratch/s1625982/NGC6822/env/environ/output_501to584.fitinfo\n",
      " ------------------------------------------------------------\n",
      "  => Model parameters\n",
      " ------------------------------------------------------------\n",
      "\n",
      "   Models              :  YSO models\n",
      "   Log[d] stepping     :  0.01\n",
      "   Number of distances :  8\n",
      "\n",
      " ------------------------------------------------------------\n",
      "  => Reading in convolved fluxes\n",
      " ------------------------------------------------------------\n",
      "\n",
      "   Reading /scratch/s1625982/NGC6822/env/environ/models_r06/convolved/2J.fits\n",
      "   Reading /scratch/s1625982/NGC6822/env/environ/models_r06/convolved/2H.fits\n",
      "   Reading /scratch/s1625982/NGC6822/env/environ/models_r06/convolved/2K.fits\n",
      "   Reading /scratch/s1625982/NGC6822/env/environ/models_r06/convolved/I1.fits\n",
      "   Reading /scratch/s1625982/NGC6822/env/environ/models_r06/convolved/I2.fits\n",
      "   Reading /scratch/s1625982/NGC6822/env/environ/models_r06/convolved/I3.fits\n",
      "   Reading /scratch/s1625982/NGC6822/env/environ/models_r06/convolved/I4.fits\n",
      "   Reading /scratch/s1625982/NGC6822/env/environ/models_r06/convolved/M1.fits\n",
      " ------------------------------------------------------------\n",
      "  => Fitting parameters\n",
      " ------------------------------------------------------------\n",
      "\n",
      "   Minimum A_V      :     0.000 mag\n",
      "   Maximum A_V      :     5.000 mag\n",
      "   Minimum distance :   450.000 kpc\n",
      "   Maximum distance :   530.000 kpc\n",
      "\n",
      " ------------------------------------------------------------\n",
      "  => Output parameters\n",
      " ------------------------------------------------------------\n",
      "\n",
      "   File   : /scratch/s1625982/NGC6822/env/environ/output_501to584.fitinfo\n",
      "   Format : F\n",
      "   Number : 6\n",
      "\n",
      " ------------------------------------------------------------\n",
      "  => Data format parameters\n",
      " ------------------------------------------------------------\n",
      "\n",
      "   Number of filters :  8\n",
      "\n",
      "\n",
      "     Filter    Wavelength    Aperture (\")   \n",
      "    ----------------------------------------\n",
      "          2J        1.24       2.00        \n",
      "          2H        1.66       2.00        \n",
      "          2K        2.16       2.00        \n",
      "          I1        3.55       1.20        \n",
      "          I2        4.49       1.20        \n",
      "          I3        5.73       1.20        \n",
      "          I4        7.87       1.20        \n",
      "          M1       23.68       6.00        \n",
      "\n",
      "   # Sources    CPU time (sec)    Sources/sec  \n",
      " ----------------------------------------------\n",
      "         10              8.9           1.12\n",
      "         20             17.7           1.13\n",
      "         30             27.0           1.11\n",
      "         40             38.0           1.05\n",
      "         50             49.0           1.02\n",
      "         60             60.0           1.00\n",
      "         70             70.9           0.99\n",
      "         80             81.9           0.98\n",
      "         85             86.3           0.98\n"
     ]
    }
   ],
   "source": [
    "# Define path to models\n",
    "model_dir = '/scratch/s1625982/NGC6822/env/environ/models_r06'\n",
    "\n",
    "# Read in extinction law)\n",
    "extinction = Extinction.from_file('/scratch/s1625982/NGC6822/env/environ/sedfitter-1.3/examples/kmh94.par',\n",
    "                                  columns=[0, 3], wav_unit=u.micron, chi_unit=u.cm**2 / u.g)\n",
    "\n",
    "# Define filters and apertures\n",
    "filters = ['2J', '2H', '2K', 'I1', 'I2', 'I3', 'I4', 'M1']\n",
    "apertures = [2., 2., 2., 1.2, 1.2, 1.2, 1.2, 6.] * u.arcsec\n",
    "\n",
    "\n",
    "# Run the fitting\n",
    "\n",
    "# Currently (12th June 2019) having to run the fitting and plotting in small batches of 100 - see above.\n",
    "# Define start and end sources to run - the user must trim the master table to the appropriate limits\n",
    "start_source = str(501)\n",
    "end_source = str(584)\n",
    "SED_input_file = '/scratch/s1625982/NGC6822/env/environ/'+start_source+'to'+end_source+'.txt'\n",
    "SED_output_file = '/scratch/s1625982/NGC6822/env/environ/output_'+start_source+'to'+end_source+'.fitinfo'\n",
    "data = ascii.read(SED_input_file, data_start=1)\n",
    "fit(SED_input_file, filters, apertures, model_dir,\n",
    "    SED_output_file,\n",
    "    extinction_law=extinction,\n",
    "    distance_range=[450., 530.] * u.kpc,    # Distance range here is for NGC 6822\n",
    "    av_range=[0., 5.])                      # A_V range here is for NGC 6822\n",
    "\n",
    "\n",
    "\n",
    "from sedfitter import plot\n",
    "plot(SED_output_file, 'Plots/plots_seds_'+start_source+'to'+end_source)"
   ]
  },
  {
   "cell_type": "markdown",
   "metadata": {},
   "source": [
    "# SED Plots Within Chi^2 Range"
   ]
  },
  {
   "cell_type": "code",
   "execution_count": 2,
   "metadata": {},
   "outputs": [],
   "source": [
    "# plots graphs of the models as above but also draws on models with a chi^2 value greater than that\n",
    "# of the best fit by the threshold number used in the select_format argument\n",
    "plot('/scratch/s1625982/NGC6822/env/environ/YSO_SEDs/output_101to200.fitinfo',\n",
    "     'YSOs_best_chi',\n",
    "     select_format=('F', 3))"
   ]
  },
  {
   "cell_type": "markdown",
   "metadata": {},
   "source": [
    "# Parameter Plots"
   ]
  },
  {
   "cell_type": "code",
   "execution_count": 13,
   "metadata": {},
   "outputs": [
    {
     "name": "stdout",
     "output_type": "stream",
     "text": [
      "Delete directory YSOs_param1d_101to200TEMP? [y/[n]] n\n",
      "Aborting...\n"
     ]
    },
    {
     "ename": "SystemExit",
     "evalue": "",
     "output_type": "error",
     "traceback": [
      "An exception has occurred, use %tb to see the full traceback.\n",
      "\u001b[0;31mSystemExit\u001b[0m\n"
     ]
    },
    {
     "name": "stderr",
     "output_type": "stream",
     "text": [
      "/usr/lib/python3.4/site-packages/IPython/core/interactiveshell.py:2886: UserWarning: To exit: use 'exit', 'quit', or Ctrl-D.\n",
      "  warn(\"To exit: use 'exit', 'quit', or Ctrl-D.\", stacklevel=1)\n"
     ]
    }
   ],
   "source": [
    "# plots a graph of parameter - defined below\n",
    "parameter = 'MDISK'\n",
    "\n",
    "param1d('/scratch/s1625982/NGC6822/env/environ/YSO_SEDs/output_101to200.fitinfo',\n",
    "        parameter,\n",
    "        'YSOs_param1d_101to200TEMP')"
   ]
  },
  {
   "cell_type": "code",
   "execution_count": null,
   "metadata": {},
   "outputs": [],
   "source": []
  }
 ],
 "metadata": {
  "kernelspec": {
   "display_name": "Python 3",
   "language": "python",
   "name": "python3"
  },
  "language_info": {
   "codemirror_mode": {
    "name": "ipython",
    "version": 3
   },
   "file_extension": ".py",
   "mimetype": "text/x-python",
   "name": "python",
   "nbconvert_exporter": "python",
   "pygments_lexer": "ipython3",
   "version": "3.4.9"
  }
 },
 "nbformat": 4,
 "nbformat_minor": 2
}
