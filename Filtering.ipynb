{
 "cells": [
  {
   "cell_type": "code",
   "execution_count": 4,
   "metadata": {},
   "outputs": [],
   "source": [
    "# Call the relevant python packages\n",
    "import numpy as np\n",
    "import pandas as pd\n",
    "import glob, os                          # Operating system module and pathnames\n",
    "\n",
    "import matplotlib\n",
    "#matplotlib.use('nbagg')\n",
    "import matplotlib.pyplot as plt\n",
    "\n",
    "from astropy import units as u\n",
    "from astropy.io import ascii, fits\n",
    "from astropy.table import join, hstack, Table, Column, vstack\n",
    "from astropy.coordinates import Angle, Latitude, Longitude, SkyCoord\n",
    "\n",
    "# Output plots in Notebook\n",
    "#%matplotlib notebook\n",
    "%matplotlib inline"
   ]
  },
  {
   "cell_type": "code",
   "execution_count": 15,
   "metadata": {
    "scrolled": true
   },
   "outputs": [
    {
     "name": "stdout",
     "output_type": "stream",
     "text": [
      "The number of YSOs in the table is 584\n",
      "Out of the above YSOs the number of sources with at least 5 of 8 bands is 518\n",
      "Out of the above YSOs the number of sources with at least an 8 or 24 micron flux is 518\n"
     ]
    }
   ],
   "source": [
    "# Read in the catalogue\n",
    "file = '/scratch/s1625982/NGC6822/env/NGC6822_YSOs.csv'\n",
    "data = ascii.read(file, data_start=1)\n",
    "\n",
    "# Print the number of YSOs found in the imported table\n",
    "YSO_num=len(data)\n",
    "print(\"The number of YSOs in the table is\",YSO_num)\n",
    "\n",
    "data['Total bands']=0\n",
    "data['Total bands']=data['SpNum']+data['HJKNum']\n",
    "\n",
    "# Filter potential YSOs leaving those with good photometry in at least 5 of 8 bands\n",
    "idx_good_number_bands=np.where(data['Total bands']>=5)\n",
    "num_good_number_bands=len(idx_good_number_bands[0])\n",
    "print(\"Out of the above YSOs the number of sources with at least 5 of 8 bands is\",num_good_number_bands)\n",
    "cat_good_number_bands=data[idx_good_number_bands]\n",
    "#data.show_in_notebook()\n",
    "\n",
    "# Futher filter potential YSOs leaving those with at least an 8 or 24 micron data point\n",
    "idx_8_or_24=np.where((cat_good_number_bands['80 data?']==1)|(cat_good_number_bands['24 data?']==1))\n",
    "num_8_or_24=len(idx_8_or_24[0])\n",
    "print(\"Out of the above YSOs the number of sources with at least an 8 or 24 micron flux is\",num_8_or_24)\n",
    "cat_8_or_24=cat_good_number_bands[idx_8_or_24]\n",
    "cat_good_number_bands.show_in_notebook()\n",
    "ascii.write(cat_good_number_bands,'NGC6822_filtered.csv', format='csv', fast_writer=False)"
   ]
  },
  {
   "cell_type": "code",
   "execution_count": null,
   "metadata": {
    "scrolled": true
   },
   "outputs": [],
   "source": []
  },
  {
   "cell_type": "code",
   "execution_count": null,
   "metadata": {},
   "outputs": [],
   "source": []
  }
 ],
 "metadata": {
  "kernelspec": {
   "display_name": "Python 3",
   "language": "python",
   "name": "python3"
  },
  "language_info": {
   "codemirror_mode": {
    "name": "ipython",
    "version": 3
   },
   "file_extension": ".py",
   "mimetype": "text/x-python",
   "name": "python",
   "nbconvert_exporter": "python",
   "pygments_lexer": "ipython3",
   "version": "3.4.9"
  }
 },
 "nbformat": 4,
 "nbformat_minor": 2
}
